{
  "nbformat": 4,
  "nbformat_minor": 0,
  "metadata": {
    "colab": {
      "provenance": []
    },
    "kernelspec": {
      "name": "python3",
      "display_name": "Python 3"
    },
    "language_info": {
      "name": "python"
    }
  },
  "cells": [
    {
      "cell_type": "markdown",
      "source": [],
      "metadata": {
        "id": "24Ht-6dxV_G1"
      }
    },
    {
      "cell_type": "code",
      "source": [
        "!git clone https://github.com/microsoft/CodeXGLUE.git"
      ],
      "metadata": {
        "colab": {
          "base_uri": "https://localhost:8080/"
        },
        "id": "aASael6VV_l4",
        "outputId": "ac9684de-9892-41e1-c6c3-82e42cd2ff38"
      },
      "execution_count": 6,
      "outputs": [
        {
          "output_type": "stream",
          "name": "stdout",
          "text": [
            "Cloning into 'CodeXGLUE'...\n",
            "remote: Enumerating objects: 3373, done.\u001b[K\n",
            "remote: Counting objects: 100% (3372/3372), done.\u001b[K\n",
            "remote: Compressing objects: 100% (1534/1534), done.\u001b[K\n",
            "remote: Total 3373 (delta 1748), reused 3326 (delta 1733), pack-reused 1 (from 1)\u001b[K\n",
            "Receiving objects: 100% (3373/3373), 213.15 MiB | 15.45 MiB/s, done.\n",
            "Resolving deltas: 100% (1748/1748), done.\n",
            "Updating files: 100% (400/400), done.\n"
          ]
        }
      ]
    },
    {
      "cell_type": "code",
      "source": [
        "import os\n"
      ],
      "metadata": {
        "id": "MRGuFY7yWCdI"
      },
      "execution_count": 7,
      "outputs": []
    },
    {
      "cell_type": "code",
      "source": [
        "!pip install gdown"
      ],
      "metadata": {
        "colab": {
          "base_uri": "https://localhost:8080/"
        },
        "id": "L_Dt7AJ4WHUw",
        "outputId": "05c1dc5b-ac48-4db3-8033-b7367b84525b"
      },
      "execution_count": 8,
      "outputs": [
        {
          "output_type": "stream",
          "name": "stdout",
          "text": [
            "Requirement already satisfied: gdown in /usr/local/lib/python3.10/dist-packages (5.2.0)\n",
            "Requirement already satisfied: beautifulsoup4 in /usr/local/lib/python3.10/dist-packages (from gdown) (4.12.3)\n",
            "Requirement already satisfied: filelock in /usr/local/lib/python3.10/dist-packages (from gdown) (3.16.1)\n",
            "Requirement already satisfied: requests[socks] in /usr/local/lib/python3.10/dist-packages (from gdown) (2.32.3)\n",
            "Requirement already satisfied: tqdm in /usr/local/lib/python3.10/dist-packages (from gdown) (4.66.5)\n",
            "Requirement already satisfied: soupsieve>1.2 in /usr/local/lib/python3.10/dist-packages (from beautifulsoup4->gdown) (2.6)\n",
            "Requirement already satisfied: charset-normalizer<4,>=2 in /usr/local/lib/python3.10/dist-packages (from requests[socks]->gdown) (3.4.0)\n",
            "Requirement already satisfied: idna<4,>=2.5 in /usr/local/lib/python3.10/dist-packages (from requests[socks]->gdown) (3.10)\n",
            "Requirement already satisfied: urllib3<3,>=1.21.1 in /usr/local/lib/python3.10/dist-packages (from requests[socks]->gdown) (2.2.3)\n",
            "Requirement already satisfied: certifi>=2017.4.17 in /usr/local/lib/python3.10/dist-packages (from requests[socks]->gdown) (2024.8.30)\n",
            "Requirement already satisfied: PySocks!=1.5.7,>=1.5.6 in /usr/local/lib/python3.10/dist-packages (from requests[socks]->gdown) (1.7.1)\n"
          ]
        }
      ]
    },
    {
      "cell_type": "code",
      "source": [
        "import gdown\n",
        "\n",
        "# URL for the file you want to download\n",
        "url = 'https://drive.google.com/uc?id=0B2i-vWnOu7MxVlJwQXN6eVNONUU'\n",
        "output = 'downloaded_file.zip'  # Specify the output file name\n",
        "\n",
        "# Download the file\n",
        "gdown.download(url, output, quiet=False)\n"
      ],
      "metadata": {
        "colab": {
          "base_uri": "https://localhost:8080/",
          "height": 122
        },
        "id": "OdHeTmQZWSme",
        "outputId": "c25203f2-113d-4e67-ad08-25f24c4202d6"
      },
      "execution_count": 9,
      "outputs": [
        {
          "output_type": "stream",
          "name": "stderr",
          "text": [
            "Downloading...\n",
            "From (original): https://drive.google.com/uc?id=0B2i-vWnOu7MxVlJwQXN6eVNONUU\n",
            "From (redirected): https://drive.google.com/uc?id=0B2i-vWnOu7MxVlJwQXN6eVNONUU&confirm=t&uuid=6d57ba89-b92f-4fe5-820f-fe26c785b36b\n",
            "To: /content/downloaded_file.zip\n",
            "100%|██████████| 8.66M/8.66M [00:00<00:00, 77.7MB/s]\n"
          ]
        },
        {
          "output_type": "execute_result",
          "data": {
            "text/plain": [
              "'downloaded_file.zip'"
            ],
            "application/vnd.google.colaboratory.intrinsic+json": {
              "type": "string"
            }
          },
          "metadata": {},
          "execution_count": 9
        }
      ]
    },
    {
      "cell_type": "code",
      "source": [
        "import tarfile\n",
        "\n",
        "# Specify the path to your tar.gz file\n",
        "tar_file_path = 'downloaded_file.zip'\n",
        "# Open the tar.gz file\n",
        "with tarfile.open(tar_file_path, 'r:gz') as tar:\n",
        "    # Extract all contents to the current directory\n",
        "    tar.extractall()\n",
        "\n",
        "print(\"Extraction completed!\")\n"
      ],
      "metadata": {
        "colab": {
          "base_uri": "https://localhost:8080/"
        },
        "id": "SIqDSgOvWYzT",
        "outputId": "34aa3be9-4a28-4864-9b50-e7926f1d4f08"
      },
      "execution_count": 10,
      "outputs": [
        {
          "output_type": "stream",
          "name": "stdout",
          "text": [
            "Extraction completed!\n"
          ]
        }
      ]
    },
    {
      "cell_type": "code",
      "source": [
        "os.chdir('/content/CodeXGLUE/Code-Code/Clone-detection-POJ-104/dataset')"
      ],
      "metadata": {
        "id": "RG47KTSuW0c3"
      },
      "execution_count": 11,
      "outputs": []
    },
    {
      "cell_type": "code",
      "source": [
        "import os\n",
        "import json\n",
        "from tqdm import tqdm\n",
        "import pandas as pd\n",
        "\n",
        "# Function to recursively list files\n",
        "def files(path):\n",
        "    file = []\n",
        "    for root, dirs, files in os.walk(path):\n",
        "        for file_name in files:\n",
        "            file.append(os.path.join(root, file_name))\n",
        "    return file\n",
        "\n",
        "# Writing JSONL from list of files\n",
        "def write_jsonl(file_range, start_index, input_dir, output_file):\n",
        "    cont = start_index\n",
        "    with open(output_file, 'w', encoding='utf-8') as f:\n",
        "        for i in tqdm(file_range, total=len(file_range)):\n",
        "            items = files(os.path.join(input_dir, str(i)))\n",
        "            for item in items:\n",
        "                js = {}\n",
        "                js['label'] = item.split('/')[-1]  # Use '/' for Unix-like path\n",
        "                js['index'] = str(cont)\n",
        "                with open(item, 'r', encoding='latin-1') as code_file:\n",
        "                    js['code'] = code_file.read()\n",
        "                f.write(json.dumps(js) + '\\n')\n",
        "                cont += 1\n",
        "\n",
        "# Define directories and file names\n",
        "input_dir = '/content/ProgramData'  # Adjust this path if your data is in Google Drive or elsewhere\n",
        "train_output = 'train.jsonl'\n",
        "valid_output = 'valid.jsonl'\n",
        "test_output = 'test.jsonl'\n",
        "\n",
        "# You might want to adjust these ranges based on your directory structure\n",
        "train_range = range(1, 65)  # Assuming folders are numbered as in your original script\n",
        "valid_range = range(65, 81)\n",
        "test_range = range(81, 105)\n",
        "\n",
        "# Writing out files\n",
        "write_jsonl(train_range, 0, input_dir, train_output)\n",
        "write_jsonl(valid_range, 40000, input_dir, valid_output)  # Example starting index, adjust as necessary\n",
        "write_jsonl(test_range, 50000, input_dir, test_output)  # Example starting index, adjust as necessary\n"
      ],
      "metadata": {
        "colab": {
          "base_uri": "https://localhost:8080/"
        },
        "id": "ScTQIPCAW9eD",
        "outputId": "b85ba871-769b-4be6-8739-18ab10224fa5"
      },
      "execution_count": 12,
      "outputs": [
        {
          "output_type": "stream",
          "name": "stderr",
          "text": [
            "100%|██████████| 64/64 [00:02<00:00, 31.66it/s]\n",
            "100%|██████████| 16/16 [00:00<00:00, 29.55it/s]\n",
            "100%|██████████| 24/24 [00:00<00:00, 30.86it/s]\n"
          ]
        }
      ]
    },
    {
      "cell_type": "code",
      "execution_count": null,
      "metadata": {
        "id": "E_saMDXyLSfs"
      },
      "outputs": [],
      "source": [
        "import pandas as pd\n",
        "import json\n",
        "\n",
        "# Function to load data from a JSONL file into a DataFrame\n",
        "def load_data(file_path):\n",
        "    data = []\n",
        "    with open(file_path, 'r', encoding='utf-8') as file:\n",
        "        for line in file:\n",
        "            data.append(json.loads(line))\n",
        "    return pd.DataFrame(data)\n",
        "\n",
        "# Load your datasets\n",
        "train_df = load_data('/content/train.jsonl')\n",
        "valid_df = load_data('/content/valid.jsonl')\n",
        "test_df = load_data('/content/test.jsonl')\n"
      ]
    },
    {
      "cell_type": "code",
      "source": [
        "import matplotlib.pyplot as plt\n",
        "import seaborn as sns\n",
        "\n",
        "# Visualizing the distribution of labels\n",
        "sns.countplot(x='label', data=train_df)\n",
        "plt.title('Distribution of Labels in the Training Set')\n",
        "plt.show()\n",
        "\n",
        "# Histogram of code lengths\n",
        "train_df['code_length'] = train_df['code'].apply(len)\n",
        "plt.figure(figsize=(10, 6))\n",
        "sns.histplot(train_df['code_length'], bins=50, kde=True)\n",
        "plt.title('Distribution of Code Lengths in the Training Set')\n",
        "plt.show()\n"
      ],
      "metadata": {
        "colab": {
          "base_uri": "https://localhost:8080/",
          "height": 1000
        },
        "id": "UNJGq7ocLube",
        "outputId": "bd5f6c07-0b31-4356-da98-0b7cfaeae94e"
      },
      "execution_count": null,
      "outputs": [
        {
          "output_type": "display_data",
          "data": {
            "text/plain": [
              "<Figure size 640x480 with 1 Axes>"
            ],
            "image/png": "[encoded data removed]"
          },
          "metadata": {}
        },
        {
          "output_type": "display_data",
          "data": {
            "text/plain": [
              "<Figure size 1000x600 with 1 Axes>"
            ],
            "image/png": "[encoded data removed]"
          },
          "metadata": {}
        }
      ]
    },
    {
      "cell_type": "code",
      "source": [
        "import pandas as pd\n",
        "import json\n",
        "\n",
        "def load_jsonl(file_name):\n",
        "    data = []\n",
        "    with open(file_name, 'r') as f:\n",
        "        for line in f:\n",
        "            data.append(json.loads(line))\n",
        "    return pd.DataFrame(data)\n",
        "\n",
        "# Assuming the files are named 'train.jsonl', 'valid.jsonl', and 'test.jsonl' after upload\n",
        "train_df = load_jsonl('train.jsonl')\n",
        "valid_df = load_jsonl('valid.jsonl')\n",
        "test_df = load_jsonl('test.jsonl')\n",
        "\n",
        "# Display basic information and the first few rows from the training data\n",
        "train_df.info()\n",
        "train_df.head()\n"
      ],
      "metadata": {
        "colab": {
          "base_uri": "https://localhost:8080/",
          "height": 379
        },
        "id": "rybtbWJuMCrE",
        "outputId": "4ecaaaaa-fe81-4058-e03a-54b904ce0c68"
      },
      "execution_count": null,
      "outputs": [
        {
          "output_type": "stream",
          "name": "stdout",
          "text": [
            "<class 'pandas.core.frame.DataFrame'>\n",
            "RangeIndex: 32000 entries, 0 to 31999\n",
            "Data columns (total 3 columns):\n",
            " #   Column  Non-Null Count  Dtype \n",
            "---  ------  --------------  ----- \n",
            " 0   label   32000 non-null  object\n",
            " 1   index   32000 non-null  object\n",
            " 2   code    32000 non-null  object\n",
            "dtypes: object(3)\n",
            "memory usage: 750.1+ KB\n"
          ]
        },
        {
          "output_type": "execute_result",
          "data": {
            "text/plain": [
              "        label index                                               code\n",
              "0  1\\1001.txt     0  void main()\\n{\\n\\tint n,a[100],i;\\n\\tvoid fen(...\n",
              "1  1\\1002.txt     1  int f(int a,int b)\\n{\\n\\tint i,p,q;\\n\\tfor(i=b...\n",
              "2  1\\1008.txt     2  /*\\n?? - 1090 ????   \\n \\n?? \\n???????a???????...\n",
              "3  1\\1018.txt     3  int t;\\nint f(int a,int b){\\n\\tint i;\\n    for...\n",
              "4  1\\1020.txt     4  int sum = 0;\\nvoid f(int a,int s)\\n{\\n\\tint i;..."
            ],
            "text/html": [
              "\n",
              "  <div id=\"df-94fd50a2-a143-4bff-8a3d-006e7503c61b\" class=\"colab-df-container\">\n",
              "    <div>\n",
              "<style scoped>\n",
              "    .dataframe tbody tr th:only-of-type {\n",
              "        vertical-align: middle;\n",
              "    }\n",
              "\n",
              "    .dataframe tbody tr th {\n",
              "        vertical-align: top;\n",
              "    }\n",
              "\n",
              "    .dataframe thead th {\n",
              "        text-align: right;\n",
              "    }\n",
              "</style>\n",
              "<table border=\"1\" class=\"dataframe\">\n",
              "  <thead>\n",
              "    <tr style=\"text-align: right;\">\n",
              "      <th></th>\n",
              "      <th>label</th>\n",
              "      <th>index</th>\n",
              "      <th>code</th>\n",
              "    </tr>\n",
              "  </thead>\n",
              "  <tbody>\n",
              "    <tr>\n",
              "      <th>0</th>\n",
              "      <td>1\\1001.txt</td>\n",
              "      <td>0</td>\n",
              "      <td>void main()\\n{\\n\\tint n,a[100],i;\\n\\tvoid fen(...</td>\n",
              "    </tr>\n",
              "    <tr>\n",
              "      <th>1</th>\n",
              "      <td>1\\1002.txt</td>\n",
              "      <td>1</td>\n",
              "      <td>int f(int a,int b)\\n{\\n\\tint i,p,q;\\n\\tfor(i=b...</td>\n",
              "    </tr>\n",
              "    <tr>\n",
              "      <th>2</th>\n",
              "      <td>1\\1008.txt</td>\n",
              "      <td>2</td>\n",
              "      <td>/*\\n?? - 1090 ????   \\n \\n?? \\n???????a???????...</td>\n",
              "    </tr>\n",
              "    <tr>\n",
              "      <th>3</th>\n",
              "      <td>1\\1018.txt</td>\n",
              "      <td>3</td>\n",
              "      <td>int t;\\nint f(int a,int b){\\n\\tint i;\\n    for...</td>\n",
              "    </tr>\n",
              "    <tr>\n",
              "      <th>4</th>\n",
              "      <td>1\\1020.txt</td>\n",
              "      <td>4</td>\n",
              "      <td>int sum = 0;\\nvoid f(int a,int s)\\n{\\n\\tint i;...</td>\n",
              "    </tr>\n",
              "  </tbody>\n",
              "</table>\n",
              "</div>\n",
              "    <div class=\"colab-df-buttons\">\n",
              "\n",
              "  <div class=\"colab-df-container\">\n",
              "    <button class=\"colab-df-convert\" onclick=\"convertToInteractive('df-94fd50a2-a143-4bff-8a3d-006e7503c61b')\"\n",
              "            title=\"Convert this dataframe to an interactive table.\"\n",
              "            style=\"display:none;\">\n",
              "\n",
              "  <svg xmlns=\"http://www.w3.org/2000/svg\" height=\"24px\" viewBox=\"0 -960 960 960\">\n",
              "    <path d=\"M120-120v-720h720v720H120Zm60-500h600v-160H180v160Zm220 220h160v-160H400v160Zm0 220h160v-160H400v160ZM180-400h160v-160H180v160Zm440 0h160v-160H620v160ZM180-180h160v-160H180v160Zm440 0h160v-160H620v160Z\"/>\n",
              "  </svg>\n",
              "    </button>\n",
              "\n",
              "  <style>\n",
              "    .colab-df-container {\n",
              "      display:flex;\n",
              "      gap: 12px;\n",
              "    }\n",
              "\n",
              "    .colab-df-convert {\n",
              "      background-color: #E8F0FE;\n",
              "      border: none;\n",
              "      border-radius: 50%;\n",
              "      cursor: pointer;\n",
              "      display: none;\n",
              "      fill: #1967D2;\n",
              "      height: 32px;\n",
              "      padding: 0 0 0 0;\n",
              "      width: 32px;\n",
              "    }\n",
              "\n",
              "    .colab-df-convert:hover {\n",
              "      background-color: #E2EBFA;\n",
              "      box-shadow: 0px 1px 2px rgba(60, 64, 67, 0.3), 0px 1px 3px 1px rgba(60, 64, 67, 0.15);\n",
              "      fill: #174EA6;\n",
              "    }\n",
              "\n",
              "    .colab-df-buttons div {\n",
              "      margin-bottom: 4px;\n",
              "    }\n",
              "\n",
              "    [theme=dark] .colab-df-convert {\n",
              "      background-color: #3B4455;\n",
              "      fill: #D2E3FC;\n",
              "    }\n",
              "\n",
              "    [theme=dark] .colab-df-convert:hover {\n",
              "      background-color: #434B5C;\n",
              "      box-shadow: 0px 1px 3px 1px rgba(0, 0, 0, 0.15);\n",
              "      filter: drop-shadow(0px 1px 2px rgba(0, 0, 0, 0.3));\n",
              "      fill: #FFFFFF;\n",
              "    }\n",
              "  </style>\n",
              "\n",
              "    <script>\n",
              "      const buttonEl =\n",
              "        document.querySelector('#df-94fd50a2-a143-4bff-8a3d-006e7503c61b button.colab-df-convert');\n",
              "      buttonEl.style.display =\n",
              "        google.colab.kernel.accessAllowed ? 'block' : 'none';\n",
              "\n",
              "      async function convertToInteractive(key) {\n",
              "        const element = document.querySelector('#df-94fd50a2-a143-4bff-8a3d-006e7503c61b');\n",
              "        const dataTable =\n",
              "          await google.colab.kernel.invokeFunction('convertToInteractive',\n",
              "                                                    [key], {});\n",
              "        if (!dataTable) return;\n",
              "\n",
              "        const docLinkHtml = 'Like what you see? Visit the ' +\n",
              "          '<a target=\"_blank\" href=https://colab.research.google.com/notebooks/data_table.ipynb>data table notebook</a>'\n",
              "          + ' to learn more about interactive tables.';\n",
              "        element.innerHTML = '';\n",
              "        dataTable['output_type'] = 'display_data';\n",
              "        await google.colab.output.renderOutput(dataTable, element);\n",
              "        const docLink = document.createElement('div');\n",
              "        docLink.innerHTML = docLinkHtml;\n",
              "        element.appendChild(docLink);\n",
              "      }\n",
              "    </script>\n",
              "  </div>\n",
              "\n",
              "\n",
              "<div id=\"df-10062524-402e-405d-82c7-840570a5bf3b\">\n",
              "  <button class=\"colab-df-quickchart\" onclick=\"quickchart('df-10062524-402e-405d-82c7-840570a5bf3b')\"\n",
              "            title=\"Suggest charts\"\n",
              "            style=\"display:none;\">\n",
              "\n",
              "<svg xmlns=\"http://www.w3.org/2000/svg\" height=\"24px\"viewBox=\"0 0 24 24\"\n",
              "     width=\"24px\">\n",
              "    <g>\n",
              "        <path d=\"M19 3H5c-1.1 0-2 .9-2 2v14c0 1.1.9 2 2 2h14c1.1 0 2-.9 2-2V5c0-1.1-.9-2-2-2zM9 17H7v-7h2v7zm4 0h-2V7h2v10zm4 0h-2v-4h2v4z\"/>\n",
              "    </g>\n",
              "</svg>\n",
              "  </button>\n",
              "\n",
              "<style>\n",
              "  .colab-df-quickchart {\n",
              "      --bg-color: #E8F0FE;\n",
              "      --fill-color: #1967D2;\n",
              "      --hover-bg-color: #E2EBFA;\n",
              "      --hover-fill-color: #174EA6;\n",
              "      --disabled-fill-color: #AAA;\n",
              "      --disabled-bg-color: #DDD;\n",
              "  }\n",
              "\n",
              "  [theme=dark] .colab-df-quickchart {\n",
              "      --bg-color: #3B4455;\n",
              "      --fill-color: #D2E3FC;\n",
              "      --hover-bg-color: #434B5C;\n",
              "      --hover-fill-color: #FFFFFF;\n",
              "      --disabled-bg-color: #3B4455;\n",
              "      --disabled-fill-color: #666;\n",
              "  }\n",
              "\n",
              "  .colab-df-quickchart {\n",
              "    background-color: var(--bg-color);\n",
              "    border: none;\n",
              "    border-radius: 50%;\n",
              "    cursor: pointer;\n",
              "    display: none;\n",
              "    fill: var(--fill-color);\n",
              "    height: 32px;\n",
              "    padding: 0;\n",
              "    width: 32px;\n",
              "  }\n",
              "\n",
              "  .colab-df-quickchart:hover {\n",
              "    background-color: var(--hover-bg-color);\n",
              "    box-shadow: 0 1px 2px rgba(60, 64, 67, 0.3), 0 1px 3px 1px rgba(60, 64, 67, 0.15);\n",
              "    fill: var(--button-hover-fill-color);\n",
              "  }\n",
              "\n",
              "  .colab-df-quickchart-complete:disabled,\n",
              "  .colab-df-quickchart-complete:disabled:hover {\n",
              "    background-color: var(--disabled-bg-color);\n",
              "    fill: var(--disabled-fill-color);\n",
              "    box-shadow: none;\n",
              "  }\n",
              "\n",
              "  .colab-df-spinner {\n",
              "    border: 2px solid var(--fill-color);\n",
              "    border-color: transparent;\n",
              "    border-bottom-color: var(--fill-color);\n",
              "    animation:\n",
              "      spin 1s steps(1) infinite;\n",
              "  }\n",
              "\n",
              "  @keyframes spin {\n",
              "    0% {\n",
              "      border-color: transparent;\n",
              "      border-bottom-color: var(--fill-color);\n",
              "      border-left-color: var(--fill-color);\n",
              "    }\n",
              "    20% {\n",
              "      border-color: transparent;\n",
              "      border-left-color: var(--fill-color);\n",
              "      border-top-color: var(--fill-color);\n",
              "    }\n",
              "    30% {\n",
              "      border-color: transparent;\n",
              "      border-left-color: var(--fill-color);\n",
              "      border-top-color: var(--fill-color);\n",
              "      border-right-color: var(--fill-color);\n",
              "    }\n",
              "    40% {\n",
              "      border-color: transparent;\n",
              "      border-right-color: var(--fill-color);\n",
              "      border-top-color: var(--fill-color);\n",
              "    }\n",
              "    60% {\n",
              "      border-color: transparent;\n",
              "      border-right-color: var(--fill-color);\n",
              "    }\n",
              "    80% {\n",
              "      border-color: transparent;\n",
              "      border-right-color: var(--fill-color);\n",
              "      border-bottom-color: var(--fill-color);\n",
              "    }\n",
              "    90% {\n",
              "      border-color: transparent;\n",
              "      border-bottom-color: var(--fill-color);\n",
              "    }\n",
              "  }\n",
              "</style>\n",
              "\n",
              "  <script>\n",
              "    async function quickchart(key) {\n",
              "      const quickchartButtonEl =\n",
              "        document.querySelector('#' + key + ' button');\n",
              "      quickchartButtonEl.disabled = true;  // To prevent multiple clicks.\n",
              "      quickchartButtonEl.classList.add('colab-df-spinner');\n",
              "      try {\n",
              "        const charts = await google.colab.kernel.invokeFunction(\n",
              "            'suggestCharts', [key], {});\n",
              "      } catch (error) {\n",
              "        console.error('Error during call to suggestCharts:', error);\n",
              "      }\n",
              "      quickchartButtonEl.classList.remove('colab-df-spinner');\n",
              "      quickchartButtonEl.classList.add('colab-df-quickchart-complete');\n",
              "    }\n",
              "    (() => {\n",
              "      let quickchartButtonEl =\n",
              "        document.querySelector('#df-10062524-402e-405d-82c7-840570a5bf3b button');\n",
              "      quickchartButtonEl.style.display =\n",
              "        google.colab.kernel.accessAllowed ? 'block' : 'none';\n",
              "    })();\n",
              "  </script>\n",
              "</div>\n",
              "\n",
              "    </div>\n",
              "  </div>\n"
            ],
            "application/vnd.google.colaboratory.intrinsic+json": {
              "type": "dataframe",
              "variable_name": "train_df",
              "summary": "{\n  \"name\": \"train_df\",\n  \"rows\": 32000,\n  \"fields\": [\n    {\n      \"column\": \"label\",\n      \"properties\": {\n        \"dtype\": \"string\",\n        \"num_unique_values\": 32000,\n        \"samples\": [\n          \"47\\\\1975.txt\",\n          \"35\\\\352.txt\",\n          \"18\\\\985.txt\"\n        ],\n        \"semantic_type\": \"\",\n        \"description\": \"\"\n      }\n    },\n    {\n      \"column\": \"index\",\n      \"properties\": {\n        \"dtype\": \"string\",\n        \"num_unique_values\": 32000,\n        \"samples\": [\n          \"23100\",\n          \"17362\",\n          \"8993\"\n        ],\n        \"semantic_type\": \"\",\n        \"description\": \"\"\n      }\n    },\n    {\n      \"column\": \"code\",\n      \"properties\": {\n        \"dtype\": \"string\",\n        \"num_unique_values\": 31995,\n        \"samples\": [\n          \"int main()\\n{\\n\\tint a[16],i,j,k,s;\\n\\tfor(;;)\\n\\t{\\ts=0;\\n\\t\\tscanf(\\\"%d\\\",&a[0]);\\n\\t    if(a[0]==-1) break; \\n\\t\\tfor(i=1;i<=15;i++)\\n\\t\\t{\\tscanf(\\\"%d\\\",&a[i]);\\n\\t\\t   if(a[i]==0)  break;\\n\\t\\t}\\n\\t\\tfor(j=0;j<=i-1;j++)\\n\\t\\t{   \\n\\t\\t\\tfor(k=0;k<=i-1;k++)\\n\\t\\t\\t{\\tif(a[k]==2*a[j]) s=s+1; } \\n\\t\\t}\\n        printf(\\\"%d\\\\n\\\",s); \\n\\t}\\n\\treturn 0;\\n}\\n\",\n          \"/*\\n * ????1000012737_31(5).cpp\\n * ??????\\n * ????: 2010-11-11\\n * ?????????3???1???????????? s??2??????\\n * ?? a (??<=100???3??a??????? b (??<=100)??s???\\n * ??a???b?????????s???a???????s?????\\n */\\n\\nint main (){\\n\\tchar s[201],a[101],b[101];//?????\\n\\tint S,A;//??S,A????s?a???\\n\\tint i,j,m=0;//??????\\n\\tcin.getline(s,201);S=strlen(s);//??s???s?????S\\n\\tcin.getline(a,101);A=strlen(a);//??a???a?????A\\n\\tcin.getline(b,101);//??b\\n\\tfor(i=0;i<S;i++){//?s??????????????a\\n\\t\\tif(s[i]==a[0]){\\n\\t\\t\\tfor(j=i;j<A+i;j++){\\n\\t\\t\\t\\t\\tif(s[j]==a[j-i])\\n\\t\\t\\t\\t\\t\\tm++;//??????a??????????????A????????????m??\\n\\t\\t\\t}\\n\\t\\t\\tif((i==0)&&(m==A)){\\n\\t\\t\\t\\tcout<<b;//????????????s[i]??????,?????b\\n\\t\\t\\t\\ti=i+A-1;//i??a????????\\n\\t\\t\\t}\\n\\t\\t\\telse if((m==A)&&(i!=0)&&(s[i-1]==32)){\\n\\t\\t\\t\\tcout<<b;//???????????????s[i]????????????????????????b\\n\\t\\t\\t\\ti=i+A-1;//i??a????????\\n\\t\\t\\t}\\n\\t\\t\\telse cout<<s[i];//?????????????????s[i]\\n\\t\\t\\tm=0;//?m????0\\n\\t\\t}\\n\\t\\telse cout<<s[i];//?????a???????????????\\n\\t}\\n\\treturn 0;//????\\n}\",\n          \"\\nint main()\\n{\\n\\tint m,n,i,a[2000];\\n\\tcin>>n>>m;\\n\\tfor(i=1;i<=n;i++)\\n\\t\\tcin>>a[i];\\n\\tfor(i=n+1;i<=2*n;i++)\\n\\t\\ta[i]=a[i-n];\\n\\tint *p=&a[1];\\n\\tcout<<a[n-m+1];for(i=1;i<=n-1;i++)\\n\\t{*(p+i)=*(p+n-m+i);cout<<\\\" \\\"<<*(p+i);}cout<<endl;\\n\\n\\t\\n\\n\\treturn 0;\\n}\\n\"\n        ],\n        \"semantic_type\": \"\",\n        \"description\": \"\"\n      }\n    }\n  ]\n}"
            }
          },
          "metadata": {},
          "execution_count": 3
        }
      ]
    },
    {
      "cell_type": "code",
      "source": [
        "import re\n",
        "\n",
        "def clean_code(text):\n",
        "    # Simple text cleaning process\n",
        "    text = re.sub(r\"[^a-zA-Z0-9\\s]\", '', text)  # Remove non-alphanumeric characters\n",
        "    text = text.lower()  # Convert to lowercase\n",
        "    return text\n",
        "\n",
        "train_df['clean_code'] = train_df['code'].apply(clean_code)\n",
        "valid_df['clean_code'] = valid_df['code'].apply(clean_code)\n",
        "test_df['clean_code'] = test_df['code'].apply(clean_code)\n"
      ],
      "metadata": {
        "id": "_QpBnpskP22D"
      },
      "execution_count": null,
      "outputs": []
    },
    {
      "cell_type": "code",
      "source": [
        "import matplotlib.pyplot as plt\n",
        "import seaborn as sns\n",
        "\n",
        "# Label distribution\n",
        "plt.figure(figsize=(10, 5))\n",
        "sns.countplot(data=train_df, x='label')\n",
        "plt.title('Label Distribution in Training Data')\n",
        "plt.show()\n",
        "\n",
        "# Code length distribution\n",
        "train_df['code_length'] = train_df['code'].apply(len)\n",
        "plt.figure(figsize=(10, 5))\n",
        "sns.histplot(train_df['code_length'], bins=30, kde=True)\n",
        "plt.title('Code Length Distribution')\n",
        "plt.show()\n"
      ],
      "metadata": {
        "colab": {
          "base_uri": "https://localhost:8080/",
          "height": 957
        },
        "id": "7CrZy_Z6P62N",
        "outputId": "d4e174ef-a258-472b-9807-95425e0c4ce8"
      },
      "execution_count": null,
      "outputs": [
        {
          "output_type": "display_data",
          "data": {
            "text/plain": [
              "<Figure size 1000x500 with 1 Axes>"
            ],
            "image/png": "[encoded data removed]"
          },
          "metadata": {}
        },
        {
          "output_type": "display_data",
          "data": {
            "text/plain": [
              "<Figure size 1000x500 with 1 Axes>"
            ],
            "image/png": "[encoded data removed]"
          },
          "metadata": {}
        }
      ]
    }
  ]
}